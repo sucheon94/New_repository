{
 "cells": [
  {
   "cell_type": "code",
   "execution_count": 2,
   "id": "b0e70157",
   "metadata": {},
   "outputs": [],
   "source": [
    "import numpy as np\n",
    "import os\n",
    "import pandas as pd\n",
    "from keras.models import Model\n",
    "from keras.layers import Input, LSTM, Dense, concatenate, Flatten, Conv2D, MaxPooling2D\n",
    "from keras.preprocessing.image import load_img, img_to_array\n",
    "from sklearn.model_selection import train_test_split\n",
    "from sklearn.metrics import accuracy_score\n",
    "from sklearn.preprocessing import MinMaxScaler"
   ]
  },
  {
   "cell_type": "code",
   "execution_count": 3,
   "id": "a400485e",
   "metadata": {
    "scrolled": true
   },
   "outputs": [
    {
     "name": "stdout",
     "output_type": "stream",
     "text": [
      "동영상 특징추출 파일 목록: ['최소데이터\\\\000\\\\feature\\\\000-001.csv', '최소데이터\\\\000\\\\feature\\\\000-002.csv', '최소데이터\\\\000\\\\feature\\\\000-003.csv', '최소데이터\\\\000\\\\feature\\\\000-004.csv', '최소데이터\\\\000\\\\feature\\\\000-005.csv']\n",
      "\n",
      "이미지 파일 목록: ['최소데이터\\\\000\\\\picture\\\\000-ang-00.JPG', '최소데이터\\\\000\\\\picture\\\\000-ang-01.JPG', '최소데이터\\\\000\\\\picture\\\\000-ang-02.JPG', '최소데이터\\\\000\\\\picture\\\\000-ang-03.JPG', '최소데이터\\\\000\\\\picture\\\\000-ang-04.JPG']\n"
     ]
    }
   ],
   "source": [
    "def get_file_paths(directory, file_type):\n",
    "    file_paths = []\n",
    "    for root, dirs, files in os.walk(directory):\n",
    "        for file in files:\n",
    "            if file.endswith(file_type):\n",
    "                file_paths.append(os.path.join(root, file))\n",
    "    return file_paths\n",
    "\n",
    "movie_data_csv = get_file_paths(\"최소데이터\", \"csv\")\n",
    "image_data = get_file_paths(\"최소데이터\", \".JPG\")\n",
    "\n",
    "print(\"동영상 특징추출 파일 목록:\", movie_data_csv[:5])\n",
    "print(\"\\n이미지 파일 목록:\", image_data[:5])"
   ]
  },
  {
   "cell_type": "code",
   "execution_count": 4,
   "id": "9d8f5013",
   "metadata": {},
   "outputs": [],
   "source": [
    "def find_min_rows(file_paths):\n",
    "    min_rows = float('inf')\n",
    "    for file_path in file_paths:\n",
    "        data = pd.read_csv(file_path)\n",
    "        if len(data) < min_rows:\n",
    "            min_rows = len(data)\n",
    "    return min_rows\n",
    "\n",
    "def process_csv_files(file_paths, num_rows, chunksize=10000):\n",
    "    processed_data = []\n",
    "    for file_path in file_paths:\n",
    "        data_list = []\n",
    "        total_rows = 0\n",
    "\n",
    "        for chunk in pd.read_csv(file_path, chunksize=chunksize):\n",
    "            total_rows += len(chunk)\n",
    "            if total_rows <= num_rows:\n",
    "                data_list.append(chunk)\n",
    "            else:\n",
    "                remaining_rows = num_rows - (total_rows - len(chunk))\n",
    "                data_list.append(chunk.iloc[:remaining_rows])\n",
    "                break\n",
    "\n",
    "        combined_data = pd.concat(data_list)\n",
    "\n",
    "        # 패딩 추가\n",
    "        if len(combined_data) < num_rows:\n",
    "            padding = pd.DataFrame(np.zeros((num_rows - len(combined_data), combined_data.shape[1])), columns=combined_data.columns)\n",
    "            combined_data = pd.concat([combined_data, padding])\n",
    "\n",
    "        processed_data.append(combined_data)\n",
    "\n",
    "    return processed_data\n",
    "\n",
    "min_rows = find_min_rows(movie_data_csv)\n",
    "processed_data = process_csv_files(movie_data_csv, min_rows, chunksize=10000)\n",
    "lstm_data = np.array([data.values for data in processed_data], dtype=np.float32)\n"
   ]
  },
  {
   "cell_type": "code",
   "execution_count": 5,
   "id": "9a8d453b",
   "metadata": {},
   "outputs": [],
   "source": [
    "# CNN 모델을 위한 데이터 전처리\n",
    "cnn_data = np.array([img_to_array(load_img(file, target_size=(128, 128))) for file in image_data], dtype=np.float32)\n",
    "cnn_input_shape = cnn_data.shape[1:]\n",
    "\n",
    "# # Dense 모델을 위한 데이터 전처리\n",
    "# dense_data = text_data.drop(columns=['번호', '나이']).values\n",
    "# dense_input_shape = dense_data.shape[1:]\n",
    "\n",
    "# LSTM 모델을 위한 데이터 전처리\n",
    "lstm_input_shape = lstm_data.shape[1:]"
   ]
  },
  {
   "cell_type": "code",
   "execution_count": 6,
   "id": "793f3662",
   "metadata": {},
   "outputs": [],
   "source": [
    "# LSTM 모델 정의\n",
    "def create_lstm_model(input_shape):\n",
    "    input_layer = Input(shape=input_shape)\n",
    "    x = LSTM(64, return_sequences=True)(input_layer)\n",
    "    x = Flatten()(x)\n",
    "    return Model(inputs=input_layer, outputs=x)"
   ]
  },
  {
   "cell_type": "code",
   "execution_count": 7,
   "id": "a3872b19",
   "metadata": {},
   "outputs": [],
   "source": [
    "# CNN 모델 정의\n",
    "def create_cnn_model(input_shape):\n",
    "    input_layer = Input(shape=input_shape)\n",
    "    x = Conv2D(32, kernel_size=(3, 3), activation='relu')(input_layer)\n",
    "    x = MaxPooling2D(pool_size=(2, 2))(x)\n",
    "    x = Flatten()(x)\n",
    "    return Model(inputs=input_layer, outputs=x)"
   ]
  },
  {
   "cell_type": "code",
   "execution_count": 8,
   "id": "29797cb8",
   "metadata": {},
   "outputs": [],
   "source": [
    "# # Dense 모델 정의\n",
    "# def create_dense_model(input_shape):\n",
    "#     input_layer = Input(shape=input_shape)\n",
    "#     x = Dense(64, activation='relu')(input_layer)\n",
    "#     x = Dense(64, activation='relu')(x)\n",
    "#     return Model(inputs=input_layer, outputs=x)"
   ]
  },
  {
   "cell_type": "code",
   "execution_count": 9,
   "id": "826c248e",
   "metadata": {},
   "outputs": [],
   "source": [
    "# 각 모달에 대한 모델 생성\n",
    "lstm_model = create_lstm_model(lstm_data.shape[1:])\n",
    "cnn_model = create_cnn_model((128, 128, 3))"
   ]
  },
  {
   "cell_type": "code",
   "execution_count": 10,
   "id": "4a695062",
   "metadata": {},
   "outputs": [],
   "source": [
    "# 각 모달 모델의 출력을 결합\n",
    "lstm_output = lstm_model.output\n",
    "cnn_output = cnn_model.output"
   ]
  },
  {
   "cell_type": "code",
   "execution_count": 11,
   "id": "a45062a8",
   "metadata": {},
   "outputs": [],
   "source": [
    "# 각 모달 모델의 출력을 결합하여 최종 예측 수행하는 모델 정의\n",
    "combined_output = concatenate([lstm_output, cnn_output])\n",
    "x = Dense(128, activation='relu')(combined_output)\n",
    "final_output = Dense(3, activation='sigmoid')(x)  # 노드 수는 출력 특징의 개수에 따라 조정\n"
   ]
  },
  {
   "cell_type": "code",
   "execution_count": 12,
   "id": "c934ee51",
   "metadata": {},
   "outputs": [],
   "source": [
    "# 최종 모델 정의\n",
    "model = Model(inputs=[lstm_model.input, cnn_model.input], outputs=final_output)\n"
   ]
  },
  {
   "cell_type": "code",
   "execution_count": 13,
   "id": "21b9e616",
   "metadata": {},
   "outputs": [
    {
     "name": "stdout",
     "output_type": "stream",
     "text": [
      "Model: \"model_2\"\n",
      "__________________________________________________________________________________________________\n",
      " Layer (type)                Output Shape                 Param #   Connected to                  \n",
      "==================================================================================================\n",
      " input_2 (InputLayer)        [(None, 128, 128, 3)]        0         []                            \n",
      "                                                                                                  \n",
      " input_1 (InputLayer)        [(None, 31, 4)]              0         []                            \n",
      "                                                                                                  \n",
      " conv2d (Conv2D)             (None, 126, 126, 32)         896       ['input_2[0][0]']             \n",
      "                                                                                                  \n",
      " lstm (LSTM)                 (None, 31, 64)               17664     ['input_1[0][0]']             \n",
      "                                                                                                  \n",
      " max_pooling2d (MaxPooling2  (None, 63, 63, 32)           0         ['conv2d[0][0]']              \n",
      " D)                                                                                               \n",
      "                                                                                                  \n",
      " flatten (Flatten)           (None, 1984)                 0         ['lstm[0][0]']                \n",
      "                                                                                                  \n",
      " flatten_1 (Flatten)         (None, 127008)               0         ['max_pooling2d[0][0]']       \n",
      "                                                                                                  \n",
      " concatenate (Concatenate)   (None, 128992)               0         ['flatten[0][0]',             \n",
      "                                                                     'flatten_1[0][0]']           \n",
      "                                                                                                  \n",
      " dense (Dense)               (None, 128)                  1651110   ['concatenate[0][0]']         \n",
      "                                                          4                                       \n",
      "                                                                                                  \n",
      " dense_1 (Dense)             (None, 3)                    387       ['dense[0][0]']               \n",
      "                                                                                                  \n",
      "==================================================================================================\n",
      "Total params: 16530051 (63.06 MB)\n",
      "Trainable params: 16530051 (63.06 MB)\n",
      "Non-trainable params: 0 (0.00 Byte)\n",
      "__________________________________________________________________________________________________\n"
     ]
    }
   ],
   "source": [
    "# 모델 컴파일\n",
    "model.compile(optimizer='adam', loss='mean_squared_error', metrics=['accuracy'])\n",
    "# 모델 요약\n",
    "model.summary()"
   ]
  },
  {
   "cell_type": "code",
   "execution_count": 14,
   "id": "20b284c1",
   "metadata": {
    "scrolled": true
   },
   "outputs": [],
   "source": [
    "# 훈련 데이터와 테스트 데이터 분리\n",
    "train_lstm, test_lstm, train_cnn, test_cnn = train_test_split(\n",
    "    lstm_data, cnn_data, test_size=0.2, random_state=42\n",
    ")"
   ]
  },
  {
   "cell_type": "code",
   "execution_count": 15,
   "id": "af6d84b7",
   "metadata": {},
   "outputs": [],
   "source": [
    "# 모델 훈련을 위한 더미 레이블 생성 (실제 데이터에 맞게 수정 필요)\n",
    "num_samples = len(train_lstm)  # 또는 train_cnn의 길이를 사용\n",
    "num_classes = 3  # 클래스 수에 따라 조정\n",
    "\n",
    "# 더미 레이블 생성 (실제 레이블로 대체해야 함)\n",
    "train_labels = np.random.randint(0, num_classes, size=(num_samples, num_classes))\n",
    "test_labels = np.random.randint(0, num_classes, size=(len(test_lstm), num_classes))\n"
   ]
  },
  {
   "cell_type": "code",
   "execution_count": 16,
   "id": "b41144ed",
   "metadata": {},
   "outputs": [
    {
     "name": "stdout",
     "output_type": "stream",
     "text": [
      "Epoch 1/50\n",
      "3/3 [==============================] - 1s 77ms/step - loss: 1.3083 - accuracy: 0.5500\n",
      "Epoch 2/50\n",
      "3/3 [==============================] - 0s 82ms/step - loss: 1.3083 - accuracy: 0.5500\n",
      "Epoch 3/50\n",
      "3/3 [==============================] - 0s 80ms/step - loss: 1.2167 - accuracy: 0.5500\n",
      "Epoch 4/50\n",
      "3/3 [==============================] - 0s 78ms/step - loss: 0.9333 - accuracy: 0.5500\n",
      "Epoch 5/50\n",
      "3/3 [==============================] - 0s 80ms/step - loss: 0.9333 - accuracy: 0.5500\n",
      "Epoch 6/50\n",
      "3/3 [==============================] - 0s 81ms/step - loss: 0.9333 - accuracy: 0.5500\n",
      "Epoch 7/50\n",
      "3/3 [==============================] - 0s 80ms/step - loss: 0.9333 - accuracy: 0.5500\n",
      "Epoch 8/50\n",
      "3/3 [==============================] - 0s 80ms/step - loss: 0.9333 - accuracy: 0.5500\n",
      "Epoch 9/50\n",
      "3/3 [==============================] - 0s 80ms/step - loss: 0.9333 - accuracy: 0.5500\n",
      "Epoch 10/50\n",
      "3/3 [==============================] - 0s 81ms/step - loss: 0.9333 - accuracy: 0.5500\n",
      "Epoch 11/50\n",
      "3/3 [==============================] - 0s 82ms/step - loss: 0.9333 - accuracy: 0.5500\n",
      "Epoch 12/50\n",
      "3/3 [==============================] - 0s 83ms/step - loss: 0.9333 - accuracy: 0.5500\n",
      "Epoch 13/50\n",
      "3/3 [==============================] - 0s 82ms/step - loss: 0.9333 - accuracy: 0.5500\n",
      "Epoch 14/50\n",
      "3/3 [==============================] - 0s 79ms/step - loss: 0.9333 - accuracy: 0.5500\n",
      "Epoch 15/50\n",
      "3/3 [==============================] - 0s 83ms/step - loss: 0.9333 - accuracy: 0.5500\n",
      "Epoch 16/50\n",
      "3/3 [==============================] - 0s 82ms/step - loss: 0.9333 - accuracy: 0.5500\n",
      "Epoch 17/50\n",
      "3/3 [==============================] - 0s 81ms/step - loss: 0.9333 - accuracy: 0.5500\n",
      "Epoch 18/50\n",
      "3/3 [==============================] - 0s 82ms/step - loss: 0.9333 - accuracy: 0.5500\n",
      "Epoch 19/50\n",
      "3/3 [==============================] - 0s 81ms/step - loss: 0.9333 - accuracy: 0.5500\n",
      "Epoch 20/50\n",
      "3/3 [==============================] - 0s 82ms/step - loss: 0.9333 - accuracy: 0.5500\n",
      "Epoch 21/50\n",
      "3/3 [==============================] - 0s 83ms/step - loss: 0.9333 - accuracy: 0.5500\n",
      "Epoch 22/50\n",
      "3/3 [==============================] - 0s 82ms/step - loss: 0.9333 - accuracy: 0.5500\n",
      "Epoch 23/50\n",
      "3/3 [==============================] - 0s 83ms/step - loss: 0.9333 - accuracy: 0.5500\n",
      "Epoch 24/50\n",
      "3/3 [==============================] - 0s 82ms/step - loss: 0.9333 - accuracy: 0.5500\n",
      "Epoch 25/50\n",
      "3/3 [==============================] - 0s 82ms/step - loss: 0.9333 - accuracy: 0.5500\n",
      "Epoch 26/50\n",
      "3/3 [==============================] - 0s 81ms/step - loss: 0.9333 - accuracy: 0.5500\n",
      "Epoch 27/50\n",
      "3/3 [==============================] - 0s 79ms/step - loss: 0.9333 - accuracy: 0.5500\n",
      "Epoch 28/50\n",
      "3/3 [==============================] - 0s 82ms/step - loss: 0.9333 - accuracy: 0.5500\n",
      "Epoch 29/50\n",
      "3/3 [==============================] - 0s 82ms/step - loss: 0.9333 - accuracy: 0.5500\n",
      "Epoch 30/50\n",
      "3/3 [==============================] - 0s 82ms/step - loss: 0.9333 - accuracy: 0.5500\n",
      "Epoch 31/50\n",
      "3/3 [==============================] - 0s 81ms/step - loss: 0.9333 - accuracy: 0.5500\n",
      "Epoch 32/50\n",
      "3/3 [==============================] - 0s 82ms/step - loss: 0.9333 - accuracy: 0.5500\n",
      "Epoch 33/50\n",
      "3/3 [==============================] - 0s 81ms/step - loss: 0.9333 - accuracy: 0.5500\n",
      "Epoch 34/50\n",
      "3/3 [==============================] - 0s 82ms/step - loss: 0.9333 - accuracy: 0.5500\n",
      "Epoch 35/50\n",
      "3/3 [==============================] - 0s 81ms/step - loss: 0.9333 - accuracy: 0.5500\n",
      "Epoch 36/50\n",
      "3/3 [==============================] - 0s 81ms/step - loss: 0.9333 - accuracy: 0.5500\n",
      "Epoch 37/50\n",
      "3/3 [==============================] - 0s 81ms/step - loss: 0.9333 - accuracy: 0.5500\n",
      "Epoch 38/50\n",
      "3/3 [==============================] - 0s 82ms/step - loss: 0.9333 - accuracy: 0.5500\n",
      "Epoch 39/50\n",
      "3/3 [==============================] - 0s 81ms/step - loss: 0.9333 - accuracy: 0.5500\n",
      "Epoch 40/50\n",
      "3/3 [==============================] - 0s 80ms/step - loss: 0.9333 - accuracy: 0.5500\n",
      "Epoch 41/50\n",
      "3/3 [==============================] - 0s 82ms/step - loss: 0.9333 - accuracy: 0.5500\n",
      "Epoch 42/50\n",
      "3/3 [==============================] - 0s 82ms/step - loss: 0.9333 - accuracy: 0.5500\n",
      "Epoch 43/50\n",
      "3/3 [==============================] - 0s 83ms/step - loss: 0.9333 - accuracy: 0.5500\n",
      "Epoch 44/50\n",
      "3/3 [==============================] - 0s 81ms/step - loss: 0.9333 - accuracy: 0.5500\n",
      "Epoch 45/50\n",
      "3/3 [==============================] - 0s 83ms/step - loss: 0.9333 - accuracy: 0.5500\n",
      "Epoch 46/50\n",
      "3/3 [==============================] - 0s 82ms/step - loss: 0.9333 - accuracy: 0.5500\n",
      "Epoch 47/50\n",
      "3/3 [==============================] - 0s 82ms/step - loss: 0.9333 - accuracy: 0.5500\n",
      "Epoch 48/50\n",
      "3/3 [==============================] - 0s 81ms/step - loss: 0.9333 - accuracy: 0.5500\n",
      "Epoch 49/50\n",
      "3/3 [==============================] - 0s 82ms/step - loss: 0.9333 - accuracy: 0.5500\n",
      "Epoch 50/50\n",
      "3/3 [==============================] - 0s 84ms/step - loss: 0.9333 - accuracy: 0.5500\n"
     ]
    },
    {
     "data": {
      "text/plain": [
       "<keras.src.callbacks.History at 0x21abc392be0>"
      ]
     },
     "execution_count": 16,
     "metadata": {},
     "output_type": "execute_result"
    }
   ],
   "source": [
    "# 모델 훈련\n",
    "model.fit([train_lstm, train_cnn], train_labels, epochs=50, batch_size=32)\n"
   ]
  },
  {
   "cell_type": "code",
   "execution_count": 17,
   "id": "83810235",
   "metadata": {},
   "outputs": [
    {
     "name": "stdout",
     "output_type": "stream",
     "text": [
      "1/1 [==============================] - 0s 193ms/step - loss: 0.9667 - accuracy: 0.6000\n",
      "테스트 데이터 정확도: 60.00%\n"
     ]
    }
   ],
   "source": [
    "# 모델 평가\n",
    "accuracy = model.evaluate([test_lstm, test_cnn], test_labels)\n",
    "print(f\"테스트 데이터 정확도: {accuracy[1]*100:.2f}%\")"
   ]
  },
  {
   "cell_type": "code",
   "execution_count": 18,
   "id": "be799f6b",
   "metadata": {},
   "outputs": [
    {
     "name": "stdout",
     "output_type": "stream",
     "text": [
      "1/1 [==============================] - 0s 170ms/step\n",
      "Sample 0: Actual Class - 1, Predicted Class - 0\n",
      "Sample 1: Actual Class - 0, Predicted Class - 0\n",
      "Sample 2: Actual Class - 0, Predicted Class - 0\n",
      "Sample 3: Actual Class - 0, Predicted Class - 0\n",
      "Sample 4: Actual Class - 1, Predicted Class - 0\n",
      "Sample 5: Actual Class - 1, Predicted Class - 0\n",
      "Sample 6: Actual Class - 1, Predicted Class - 0\n",
      "Sample 7: Actual Class - 0, Predicted Class - 0\n",
      "Sample 8: Actual Class - 0, Predicted Class - 0\n",
      "Sample 9: Actual Class - 0, Predicted Class - 0\n",
      "Sample 10: Actual Class - 1, Predicted Class - 0\n",
      "Sample 11: Actual Class - 0, Predicted Class - 0\n",
      "Sample 12: Actual Class - 0, Predicted Class - 0\n",
      "Sample 13: Actual Class - 2, Predicted Class - 0\n",
      "Sample 14: Actual Class - 0, Predicted Class - 0\n",
      "Sample 15: Actual Class - 1, Predicted Class - 0\n",
      "Sample 16: Actual Class - 1, Predicted Class - 0\n",
      "Sample 17: Actual Class - 0, Predicted Class - 0\n",
      "Sample 18: Actual Class - 0, Predicted Class - 0\n",
      "Sample 19: Actual Class - 0, Predicted Class - 0\n"
     ]
    }
   ],
   "source": [
    "# 테스트 데이터에 대한 예측 수행\n",
    "predicted_labels = model.predict([test_lstm, test_cnn])\n",
    "\n",
    "# 예측 결과와 실제 레이블 비교\n",
    "for i in range(len(test_lstm)):\n",
    "    actual_label = test_labels[i]\n",
    "    predicted_label = predicted_labels[i]\n",
    "    \n",
    "    # 실제 레이블과 예측 레이블 출력 (여기서는 클래스 인덱스로 표현)\n",
    "    actual_class = np.argmax(actual_label)\n",
    "    predicted_class = np.argmax(predicted_label)\n",
    "\n",
    "    print(f\"Sample {i}: Actual Class - {actual_class}, Predicted Class - {predicted_class}\")\n"
   ]
  },
  {
   "cell_type": "code",
   "execution_count": null,
   "id": "f68bd25e",
   "metadata": {},
   "outputs": [],
   "source": []
  }
 ],
 "metadata": {
  "kernelspec": {
   "display_name": "Python 3 (ipykernel)",
   "language": "python",
   "name": "python3"
  },
  "language_info": {
   "codemirror_mode": {
    "name": "ipython",
    "version": 3
   },
   "file_extension": ".py",
   "mimetype": "text/x-python",
   "name": "python",
   "nbconvert_exporter": "python",
   "pygments_lexer": "ipython3",
   "version": "3.8.0"
  }
 },
 "nbformat": 4,
 "nbformat_minor": 5
}
